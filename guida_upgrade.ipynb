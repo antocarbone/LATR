{
 "cells": [
  {
   "cell_type": "code",
   "execution_count": null,
   "id": "34d7dabe",
   "metadata": {
    "vscode": {
     "languageId": "bat"
    }
   },
   "outputs": [],
   "source": [
    "conda create -n latr python=3.9 -y\n",
    "conda activate latr"
   ]
  },
  {
   "cell_type": "code",
   "execution_count": null,
   "id": "18917428",
   "metadata": {
    "vscode": {
     "languageId": "bat"
    }
   },
   "outputs": [],
   "source": [
    "pip install torch==2.3.1 torchvision==0.18.1 torchaudio==2.3.1 --index-url https://download.pytorch.org/whl/cu121"
   ]
  },
  {
   "cell_type": "code",
   "execution_count": null,
   "id": "91812969",
   "metadata": {
    "vscode": {
     "languageId": "bat"
    }
   },
   "outputs": [],
   "source": [
    "git clone https://github.com/JMoonr/LATR.git\n",
    "cd LATR/"
   ]
  },
  {
   "cell_type": "code",
   "execution_count": null,
   "id": "29d275a7",
   "metadata": {},
   "outputs": [],
   "source": [
    "numpy==1.23.5\n",
    "fvcore\n",
    "opencv_python==4.7.0.72\n",
    "Shapely==2.0.1\n",
    "xmljson==0.2.1\n",
    "thop==0.1.1.post2209072238\n",
    "matplotlib==3.7.1\n",
    "scipy==1.10.1\n",
    "p_tqdm==1.4.2\n",
    "lxml==4.9.3\n",
    "tqdm==4.65.0\n",
    "ujson==5.8.0\n",
    "PyYAML==6.0\n",
    "scikit_learn==1.2.2\n",
    "tensorboard==2.14.1\n",
    "gdown==4.7.1\n",
    "ortools==9.3.10497\n",
    "geffnet==1.0.2\n",
    "tensorboardX==2.6.1\n",
    "protobuf==4.23.3"
   ]
  },
  {
   "cell_type": "code",
   "execution_count": null,
   "id": "d83a2c94",
   "metadata": {
    "vscode": {
     "languageId": "bat"
    }
   },
   "outputs": [],
   "source": [
    "python -m pip install -r requirements.txt"
   ]
  },
  {
   "cell_type": "code",
   "execution_count": null,
   "id": "754c80f5",
   "metadata": {
    "vscode": {
     "languageId": "bat"
    }
   },
   "outputs": [],
   "source": [
    "git clone https://github.com/open-mmlab/mmengine.git\n",
    "cd mmengine\n",
    "git checkout v0.8.0\n",
    "pip install -v -e .\n",
    "cd ..\n",
    "\n",
    "git clone https://github.com/open-mmlab/mmcv.git\n",
    "cd mmcv\n",
    "git checkout v2.1.0\n",
    "FORCE_CUDA=1 MMCV_WITH_OPS=1 python -m pip install .\n",
    "cd ..\n",
    "\n",
    "git clone https://github.com/open-mmlab/mmdetection.git\n",
    "cd mmdetection/\n",
    "git checkout v3.2.0\n",
    "pip install -e . -v\n",
    "cd ..\n",
    "\n",
    "git clone https://github.com/open-mmlab/mmdetection3d.git\n",
    "cd mmdetection3d/\n",
    "git checkout v1.3.0\n",
    "pip install -e . -v\n",
    "cd ..\n",
    "\n",
    "git clone https://github.com/open-mmlab/mmsegmentation.git\n",
    "cd mmsegmentation\n",
    "pip install -e . -v\n",
    "cd .."
   ]
  },
  {
   "cell_type": "code",
   "execution_count": null,
   "id": "6cbc0038",
   "metadata": {
    "vscode": {
     "languageId": "bat"
    }
   },
   "outputs": [],
   "source": [
    "conda install psutil -y\n",
    "python demo.py data/input/test_image.jpg -o data/output/pred.txt"
   ]
  },
  {
   "cell_type": "code",
   "execution_count": null,
   "id": "4031fad8",
   "metadata": {
    "vscode": {
     "languageId": "bat"
    }
   },
   "outputs": [],
   "source": [
    "python eval_once.py --checkpoint pretrained_models/once.pth"
   ]
  },
  {
   "cell_type": "code",
   "execution_count": null,
   "id": "b5d69195",
   "metadata": {
    "vscode": {
     "languageId": "bat"
    }
   },
   "outputs": [],
   "source": [
    "echo \"export TENSORRT_DIR=/user/acarbone/TensorRT-8.6.1.6\" >> ~/.bashrc\n",
    "echo \"export LD_LIBRARY_PATH=\\$TENSORRT_DIR/lib:\\$LD_LIBRARY_PATH\" >> ~/.bashrc\n",
    "echo \"export PATH=\\$TENSORRT_DIR/bin:\\$PATH\" >> ~/.bashrc\n",
    "\n",
    "source ~/.bashrc\n",
    "\n",
    "cd $TENSORRT_DIR/python\n",
    "pip install tensorrt-8.6.1-cp39-none-linux_x86_64.whl\n",
    "pip install tensorrt_lean-*-cp39-*.whl\n",
    "pip install tensorrt_dispatch-*-cp39-*.whl\n",
    "\n",
    "cd $TENSORRT_DIR/uff\n",
    "pip install uff-*-py2.py3-*.whl\n",
    "\n",
    "cd $TENSORRT_DIR/graphsurgeon\n",
    "pip install graphsurgeon-*-py2.py3-*.whl\n",
    "\n",
    "git clone https://github.com/open-mmlab/mmdeploy.git\n",
    "cd mmdeploy\n",
    "pip install -v -e .\n",
    "\n",
    "conda install cmake -y\n",
    "conda install -c conda-forge opencv\n",
    "git submodule update --init --recursive\n",
    "cd build\n",
    "cmake -DMMDEPLOY_BUILD_SDK=ON -DMMDEPLOY_TARGET_BACKENDS=\"trt\" -DOpenCV_DIR=$CONDA_PREFIX/lib/cmake/opencv4 ..\n",
    "make -j$(nproc)\n",
    "\n",
    "cd .."
   ]
  },
  {
   "cell_type": "code",
   "execution_count": null,
   "id": "f5a11946",
   "metadata": {
    "vscode": {
     "languageId": "bat"
    }
   },
   "outputs": [],
   "source": [
    "conda install ctypes -y\n",
    "python export.py"
   ]
  }
 ],
 "metadata": {
  "language_info": {
   "name": "python"
  }
 },
 "nbformat": 4,
 "nbformat_minor": 5
}
